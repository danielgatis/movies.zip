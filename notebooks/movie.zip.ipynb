{
 "cells": [
  {
   "cell_type": "markdown",
   "metadata": {},
   "source": [
    "## Importando bibliotecas"
   ]
  },
  {
   "cell_type": "code",
   "execution_count": 1,
   "metadata": {},
   "outputs": [],
   "source": [
    "%matplotlib inline\n",
    "%load_ext memory_profiler\n",
    "\n",
    "import os\n",
    "from os.path import join, getsize\n",
    "import re\n",
    "import urllib.request\n",
    "import zipfile\n",
    "import glob\n",
    "import numpy as np\n",
    "import matplotlib.pyplot as plt"
   ]
  },
  {
   "cell_type": "markdown",
   "metadata": {},
   "source": [
    "## Preparando o dataset"
   ]
  },
  {
   "cell_type": "code",
   "execution_count": 2,
   "metadata": {},
   "outputs": [],
   "source": [
    "urllib.request.urlretrieve('https://s3-sa-east-1.amazonaws.com/luizalabs-tech-challenges/movies.zip', 'movie.zip')\n",
    "\n",
    "with open('movie.zip', 'rb') as f:\n",
    "    z = zipfile.ZipFile(f)\n",
    "    for name in z.namelist():\n",
    "        try:\n",
    "            z.extract(name, '.')\n",
    "        except:\n",
    "            pass"
   ]
  },
  {
   "cell_type": "markdown",
   "metadata": {},
   "source": [
    "## Problema\n",
    "\n",
    "Esse problema pode ser dividido em quatro outros sub problemas, são eles:\n",
    "\n",
    "    * listar arquivos de uma pasta\n",
    "    * procurar uma substring em um texto\n",
    "    * ler o conteudo de um arquivo\n",
    "    * ordenar alfabeticamente\n",
    "\n",
    "A baixo vou atacar cada um separadamente com o objetivo de obter a forma mais performática de resolver cada um deles, tendo como objetivo a menor velocidade de execução e o menor consumo de memória."
   ]
  },
  {
   "cell_type": "markdown",
   "metadata": {},
   "source": [
    "### Listar arquivos de uma pasta"
   ]
  },
  {
   "cell_type": "code",
   "execution_count": 2,
   "metadata": {},
   "outputs": [],
   "source": [
    "#usando o walk\n",
    "def get_files1(path):\n",
    "    _, _, files = next(os.walk(path))\n",
    "    return files\n",
    "    \n",
    "#usando o scandir\n",
    "def get_files2(path):\n",
    "    return os.scandir(path)\n",
    "    \n",
    "#usando o glob\n",
    "def get_files3(path):\n",
    "    return glob.glob(join(path, '*'))\n",
    "    \n",
    "#usando o listdir\n",
    "def get_files4(path):\n",
    "    return os.listdir(path)"
   ]
  },
  {
   "cell_type": "markdown",
   "metadata": {},
   "source": [
    "#### Tempo de execução"
   ]
  },
  {
   "cell_type": "code",
   "execution_count": 3,
   "metadata": {},
   "outputs": [
    {
     "name": "stdout",
     "output_type": "stream",
     "text": [
      "30.9 ms ± 2.27 ms per loop (mean ± std. dev. of 10 runs, 10 loops each)\n",
      "51.5 µs ± 175 ns per loop (mean ± std. dev. of 10 runs, 10000 loops each)\n",
      "85.8 ms ± 367 µs per loop (mean ± std. dev. of 10 runs, 10 loops each)\n",
      "21.2 ms ± 529 µs per loop (mean ± std. dev. of 10 runs, 10 loops each)\n"
     ]
    }
   ],
   "source": [
    "a1 = %timeit -r 10 -o get_files1('data')\n",
    "a2 = %timeit -r 10 -o get_files2('data')\n",
    "a3 = %timeit -r 10 -o get_files3('data')\n",
    "a4 = %timeit -r 10 -o get_files4('data')"
   ]
  },
  {
   "cell_type": "code",
   "execution_count": 4,
   "metadata": {},
   "outputs": [
    {
     "data": {
      "text/plain": [
       "<Container object of 4 artists>"
      ]
     },
     "execution_count": 4,
     "metadata": {},
     "output_type": "execute_result"
    },
    {
     "data": {
      "image/png": "[encoded data removed]",
      "text/plain": [
       "<matplotlib.figure.Figure at 0x7571d30>"
      ]
     },
     "metadata": {},
     "output_type": "display_data"
    }
   ],
   "source": [
    "y = [a1.average, a2.average, a3.average, a4.average]\n",
    "x = ['walk', 'scandir', 'glob', 'listdir']\n",
    "plt.bar(x, y)"
   ]
  },
  {
   "cell_type": "markdown",
   "metadata": {},
   "source": [
    "#### Consumo de mémoria"
   ]
  },
  {
   "cell_type": "code",
   "execution_count": 5,
   "metadata": {},
   "outputs": [
    {
     "name": "stdout",
     "output_type": "stream",
     "text": [
      "peak memory: 64.59 MiB, increment: 0.73 MiB\n",
      "peak memory: 64.08 MiB, increment: 0.00 MiB\n",
      "peak memory: 65.14 MiB, increment: 1.07 MiB\n",
      "peak memory: 64.49 MiB, increment: 0.41 MiB\n"
     ]
    }
   ],
   "source": [
    "ma1 = %memit -r 10 -o get_files1('data')\n",
    "ma2 = %memit -r 10 -o get_files2('data')\n",
    "ma3 = %memit -r 10 -o get_files3('data')\n",
    "ma4 = %memit -r 10 -o get_files4('data')"
   ]
  },
  {
   "cell_type": "code",
   "execution_count": 6,
   "metadata": {},
   "outputs": [
    {
     "data": {
      "text/plain": [
       "<Container object of 4 artists>"
      ]
     },
     "execution_count": 6,
     "metadata": {},
     "output_type": "execute_result"
    },
    {
     "data": {
      "image/png": "[encoded data removed]",
      "text/plain": [
       "<matplotlib.figure.Figure at 0x75e1fb0>"
      ]
     },
     "metadata": {},
     "output_type": "display_data"
    }
   ],
   "source": [
    "y = [\n",
    "        max(ma1.mem_usage) - ma1.baseline, \n",
    "        max(ma2.mem_usage) - ma2.baseline, \n",
    "        max(ma3.mem_usage) - ma3.baseline, \n",
    "        max(ma4.mem_usage) - ma4.baseline, \n",
    "]\n",
    "\n",
    "x = ['walk', 'scandir', 'glob', 'listdir']\n",
    "plt.bar(x, y)"
   ]
  },
  {
   "cell_type": "markdown",
   "metadata": {},
   "source": [
    "#### Conclusão\n",
    "\n",
    "Para listar arquivos o `scandir` levou vantagem tanto no tempo de execução quanto no consumo de mémoria.\n",
    "\n",
    "vencedor: `scandir` "
   ]
  },
  {
   "cell_type": "markdown",
   "metadata": {},
   "source": [
    "###  Procurar uma substring em um texto"
   ]
  },
  {
   "cell_type": "code",
   "execution_count": 7,
   "metadata": {},
   "outputs": [],
   "source": [
    "def find_str1(content, q):\n",
    "    return q in content\n",
    "\n",
    "def find_str2(content, q):\n",
    "    return content.find(q) > -1\n",
    "\n",
    "def find_str3(content, q):\n",
    "    return re.match(content, q)\n",
    "\n",
    "#https://en.wikipedia.org/wiki/Rabin%E2%80%93Karp_algorithm\n",
    "def find_str4(source, pattern):\n",
    "    base = 26\n",
    "    p_hash = 0\n",
    "    s_hash = 0\n",
    "    letter_position = lambda letter:  ord(letter) - ord('A')\n",
    "\n",
    "    for letter in pattern:\n",
    "        p_hash = p_hash * base + letter_position(letter)\n",
    "\n",
    "    first_letter_base = base ** (len(pattern) - 1)\n",
    "    for i, letter in enumerate(source):\n",
    "        s_hash = s_hash * base + letter_position(letter)\n",
    "        if i < len(pattern) - 1:\n",
    "            continue\n",
    "\n",
    "        match_start_index = i - len(pattern) + 1\n",
    "        if s_hash == p_hash:\n",
    "            return match_start_index\n",
    "\n",
    "        s_hash = s_hash - letter_position(source[match_start_index]) *  first_letter_base\n",
    "    return None\n",
    "\n",
    "\n",
    "#https://en.wikipedia.org/wiki/Boyer%E2%80%93Moore_string_search_algorithm\n",
    "def find_str5(text, pattern):\n",
    "    m = len(pattern)\n",
    "    n = len(text)\n",
    "    if m > n: return -1\n",
    "    skip = []\n",
    "    for k in range(256): skip.append(m)\n",
    "    for k in range(m - 1): skip[ord(pattern[k])] = m - k - 1\n",
    "    skip = tuple(skip)\n",
    "    k = m - 1\n",
    "    while k < n:\n",
    "        j = m - 1; i = k\n",
    "        while j >= 0 and text[i] == pattern[j]:\n",
    "            j -= 1; i -= 1\n",
    "        if j == -1: return i + 1\n",
    "        k += skip[ord(text[k])]\n",
    "    return -1"
   ]
  },
  {
   "cell_type": "markdown",
   "metadata": {},
   "source": [
    "#### Tempo de execução"
   ]
  },
  {
   "cell_type": "code",
   "execution_count": 8,
   "metadata": {},
   "outputs": [
    {
     "name": "stdout",
     "output_type": "stream",
     "text": [
      "195 ns ± 6 ns per loop (mean ± std. dev. of 10 runs, 10000000 loops each)\n",
      "353 ns ± 5.21 ns per loop (mean ± std. dev. of 10 runs, 1000000 loops each)\n",
      "942 ns ± 13.1 ns per loop (mean ± std. dev. of 10 runs, 1000000 loops each)\n",
      "62.3 µs ± 2.21 µs per loop (mean ± std. dev. of 10 runs, 10000 loops each)\n",
      "31.6 µs ± 157 ns per loop (mean ± std. dev. of 10 runs, 10000 loops each)\n"
     ]
    }
   ],
   "source": [
    "content = 'Bem vindo ao desafio técnico do Luiza Labs e muito obrigado por se interessar em fazer parte do Magazine Luiza.'\n",
    "q = 'obrigado'\n",
    "s1 = %timeit -r 10 -o find_str1(content, q)\n",
    "s2 = %timeit -r 10 -o find_str2(content, q)\n",
    "s3 = %timeit -r 10 -o find_str3(content, q)\n",
    "s4 = %timeit -r 10 -o find_str4(content, q)\n",
    "s5 = %timeit -r 10 -o find_str5(content, q)"
   ]
  },
  {
   "cell_type": "code",
   "execution_count": 9,
   "metadata": {
    "scrolled": true
   },
   "outputs": [
    {
     "data": {
      "text/plain": [
       "<Container object of 5 artists>"
      ]
     },
     "execution_count": 9,
     "metadata": {},
     "output_type": "execute_result"
    },
    {
     "data": {
      "image/png": "[encoded data removed]",
      "text/plain": [
       "<matplotlib.figure.Figure at 0x763aeb0>"
      ]
     },
     "metadata": {},
     "output_type": "display_data"
    }
   ],
   "source": [
    "y = [s1.average, s2.average, s3.average, s4.average, s5.average]\n",
    "x = ['in', 'find', 'match', 'Rabin–Karp', 'Boyer–Moore']\n",
    "plt.bar(x, y)"
   ]
  },
  {
   "cell_type": "markdown",
   "metadata": {},
   "source": [
    "#### Consumo de mémoria"
   ]
  },
  {
   "cell_type": "code",
   "execution_count": 10,
   "metadata": {},
   "outputs": [
    {
     "name": "stdout",
     "output_type": "stream",
     "text": [
      "peak memory: 66.34 MiB, increment: 0.11 MiB\n",
      "peak memory: 66.34 MiB, increment: 0.00 MiB\n",
      "peak memory: 66.34 MiB, increment: 0.00 MiB\n",
      "peak memory: 66.34 MiB, increment: 0.00 MiB\n",
      "peak memory: 66.34 MiB, increment: 0.00 MiB\n"
     ]
    }
   ],
   "source": [
    "content = 'Bem vindo ao desafio técnico do Luiza Labs e muito obrigado por se interessar em fazer parte do Magazine Luiza.'\n",
    "q = 'obrigado'\n",
    "ms1 = %memit -r 10 -o find_str1(content, q)\n",
    "ms2 = %memit -r 10 -o find_str2(content, q)\n",
    "ms3 = %memit -r 10 -o find_str3(content, q)\n",
    "ms4 = %memit -r 10 -o find_str4(content, q)\n",
    "ms5 = %memit -r 10 -o find_str5(content, q)"
   ]
  },
  {
   "cell_type": "code",
   "execution_count": 11,
   "metadata": {},
   "outputs": [
    {
     "data": {
      "text/plain": [
       "<Container object of 5 artists>"
      ]
     },
     "execution_count": 11,
     "metadata": {},
     "output_type": "execute_result"
    },
    {
     "data": {
      "image/png": "[encoded data removed]",
      "text/plain": [
       "<matplotlib.figure.Figure at 0x75f4c10>"
      ]
     },
     "metadata": {},
     "output_type": "display_data"
    }
   ],
   "source": [
    "y = [\n",
    "        max(ms1.mem_usage) - ms1.baseline, \n",
    "        max(ms2.mem_usage) - ms2.baseline, \n",
    "        max(ms3.mem_usage) - ms3.baseline, \n",
    "        max(ms4.mem_usage) - ms4.baseline, \n",
    "        max(ms5.mem_usage) - ms5.baseline, \n",
    "]\n",
    "\n",
    "x = ['in', 'find', 'match', 'Rabin–Karp', 'Boyer–Moore']\n",
    "plt.bar(x, y)"
   ]
  },
  {
   "cell_type": "markdown",
   "metadata": {},
   "source": [
    "#### Conclusão\n",
    "\n",
    "A performance desse problema esta relacionado com o tamanho do texto em que se realiza a busca. Usei os metodos nativos `in`, `find` e `match`, com a adição de mais dois algoritmos de busca em texto o `Rabin–Karp` e `Boyer–Moore`.\n",
    "\n",
    "O método que apresentou melhor custo beneficio foi o `find`.\n",
    "\n",
    "vencendor: `find`  "
   ]
  },
  {
   "cell_type": "markdown",
   "metadata": {},
   "source": [
    "### Ler o conteudo de um arquivo "
   ]
  },
  {
   "cell_type": "code",
   "execution_count": 12,
   "metadata": {},
   "outputs": [],
   "source": [
    "#lendo o arquivo inteiro\n",
    "def find1(path, q):\n",
    "    with(open(path)) as f:\n",
    "        content = f.read()\n",
    "    return q in content\n",
    "\n",
    "\n",
    "#lendo o arquivo em pedaços\n",
    "def find2(path, q):\n",
    "    with(open(path)) as f:\n",
    "        length = len(q)\n",
    "        part = f.read(length)\n",
    "        \n",
    "        while True:\n",
    "            if part == q:\n",
    "                return True\n",
    "\n",
    "            char = f.read(1)\n",
    "            \n",
    "            if not char:\n",
    "                return False\n",
    "\n",
    "            part = part[1:] + char\n",
    "\n",
    "            \n",
    "#lendo o arquivo por linhas            \n",
    "def find3(path, q):\n",
    "     with(open(path)) as file:\n",
    "        for line in file:\n",
    "            if q in line:\n",
    "                return True\n",
    "        return False\n"
   ]
  },
  {
   "cell_type": "code",
   "execution_count": 13,
   "metadata": {},
   "outputs": [
    {
     "name": "stdout",
     "output_type": "stream",
     "text": [
      "O maior arquivo é data\\the-most-dangerous-man-in-america-daniel-ellsberg-and-the-pentagon-papers.txt e tem 170 bytes\n"
     ]
    }
   ],
   "source": [
    "#procurando o maior arquivo de nosso dataset\n",
    "\n",
    "biggest = ('', -1)\n",
    "path = 'data'\n",
    "\n",
    "for item in os.listdir(path):\n",
    "    item = join(path, item)\n",
    "    itemsize = getsize(item)\n",
    "    if itemsize > biggest[1]:\n",
    "            biggest = (item, itemsize)\n",
    "\n",
    "print('O maior arquivo é {} e tem {} bytes'.format(*biggest))"
   ]
  },
  {
   "cell_type": "markdown",
   "metadata": {},
   "source": [
    "#### Tempo de execução"
   ]
  },
  {
   "cell_type": "code",
   "execution_count": 14,
   "metadata": {
    "scrolled": false
   },
   "outputs": [
    {
     "name": "stdout",
     "output_type": "stream",
     "text": [
      "125 µs ± 9.85 µs per loop (mean ± std. dev. of 10 runs, 10000 loops each)\n",
      "138 µs ± 2.34 µs per loop (mean ± std. dev. of 10 runs, 10000 loops each)\n",
      "122 µs ± 12.8 µs per loop (mean ± std. dev. of 10 runs, 10000 loops each)\n"
     ]
    }
   ],
   "source": [
    "hf1 = %timeit -r 10 -o find1('./data/the-most-dangerous-man-in-america-daniel-ellsberg-and-the-pentagon-papers.txt', 'papers')    \n",
    "hf2 = %timeit -r 10 -o find2('./data/the-most-dangerous-man-in-america-daniel-ellsberg-and-the-pentagon-papers.txt', 'papers')    \n",
    "hf3 = %timeit -r 10 -o find3('./data/the-most-dangerous-man-in-america-daniel-ellsberg-and-the-pentagon-papers.txt', 'papers')    \n"
   ]
  },
  {
   "cell_type": "code",
   "execution_count": 15,
   "metadata": {},
   "outputs": [
    {
     "data": {
      "text/plain": [
       "<Container object of 3 artists>"
      ]
     },
     "execution_count": 15,
     "metadata": {},
     "output_type": "execute_result"
    },
    {
     "data": {
      "image/png": "[encoded data removed]",
      "text/plain": [
       "<matplotlib.figure.Figure at 0xa5f770>"
      ]
     },
     "metadata": {},
     "output_type": "display_data"
    }
   ],
   "source": [
    "y = [hf1.average, hf2.average, hf3.average]\n",
    "x = ['read', 'chunk', 'line']\n",
    "plt.bar(x, y)"
   ]
  },
  {
   "cell_type": "markdown",
   "metadata": {},
   "source": [
    "#### Consumo de mémoria"
   ]
  },
  {
   "cell_type": "code",
   "execution_count": 16,
   "metadata": {},
   "outputs": [
    {
     "name": "stdout",
     "output_type": "stream",
     "text": [
      "peak memory: 67.88 MiB, increment: 0.00 MiB\n",
      "peak memory: 67.88 MiB, increment: 0.00 MiB\n",
      "peak memory: 67.88 MiB, increment: 0.00 MiB\n"
     ]
    }
   ],
   "source": [
    "mhf1 = %memit -r 10 -o find1('./data/the-most-dangerous-man-in-america-daniel-ellsberg-and-the-pentagon-papers.txt', 'papers')  \n",
    "mhf2 = %memit -r 10 -o find2('./data/the-most-dangerous-man-in-america-daniel-ellsberg-and-the-pentagon-papers.txt', 'papers')\n",
    "mhf3 = %memit -r 10 -o find3('./data/the-most-dangerous-man-in-america-daniel-ellsberg-and-the-pentagon-papers.txt', 'papers')    "
   ]
  },
  {
   "cell_type": "code",
   "execution_count": 23,
   "metadata": {},
   "outputs": [
    {
     "data": {
      "text/plain": [
       "<Container object of 3 artists>"
      ]
     },
     "execution_count": 23,
     "metadata": {},
     "output_type": "execute_result"
    },
    {
     "data": {
      "image/png": "[encoded data removed]",
      "text/plain": [
       "<matplotlib.figure.Figure at 0xb505f0>"
      ]
     },
     "metadata": {},
     "output_type": "display_data"
    }
   ],
   "source": [
    "y = [\n",
    "    max(mhf1.mem_usage) - mhf1.baseline, \n",
    "    max(mhf2.mem_usage) - mhf2.baseline, \n",
    "    max(mhf3.mem_usage) - mhf3.baseline,\n",
    "]\n",
    "x = ['read', 'chunk', 'line']\n",
    "plt.bar(x, y)"
   ]
  },
  {
   "cell_type": "markdown",
   "metadata": {},
   "source": [
    "#### Conclusão\n",
    "\n",
    "Arquivos pequenos com pouco conteúdo podem ser carregados com o `read` de uma só vez para a mémoria. Já arquivos grandes precisam ser carregodos em pedaços (`chunks`) para que o consumo de mémoria se mantenha baixo, mas sendo penalizado com perda de velocidade. Já ler os arquivos por linhas apresenta o melhor custo beneficio, uma vez que apenas uma linha do arquivo é carregada para a mémoria por vez.\n",
    "\n",
    "vencendor: `line`"
   ]
  },
  {
   "cell_type": "markdown",
   "metadata": {},
   "source": [
    "### Ordenar alfabeticamente"
   ]
  },
  {
   "cell_type": "code",
   "execution_count": 25,
   "metadata": {},
   "outputs": [],
   "source": [
    "def sort1(results):\n",
    "    return sorted(results)\n",
    "\n",
    "def sort2(results):\n",
    "    results.sort()\n",
    "    return results\n",
    "\n",
    "def quicksort(arr):\n",
    "    if len(arr) < 2:\n",
    "        return arr\n",
    "\n",
    "    pivot = arr[0]\n",
    "    lesser = quicksort([x for x in arr if x < pivot])\n",
    "    greater = quicksort([x for x in arr if x > pivot])\n",
    "\n",
    "    return lesser + [pivot] + greater\n",
    "\n",
    "def merge(left, right):\n",
    "    if not len(left) or not len(right):\n",
    "        return left or right\n",
    "\n",
    "    result = []\n",
    "    i, j = 0, 0\n",
    "    while (len(result) < len(left) + len(right)):\n",
    "        if left[i] < right[j]:\n",
    "            result.append(left[i])\n",
    "            i+= 1\n",
    "        else:\n",
    "            result.append(right[j])\n",
    "            j+= 1\n",
    "        if i == len(left) or j == len(right):\n",
    "            result.extend(left[i:] or right[j:])\n",
    "            break \n",
    "\n",
    "    return result\n",
    "\n",
    "def mergesort(list):\n",
    "    if len(list) < 2:\n",
    "        return list\n",
    "\n",
    "    middle = int(len(list) / 2)\n",
    "    left = mergesort(list[:middle])\n",
    "    right = mergesort(list[middle:])\n",
    "\n",
    "    return merge(left, right)\n",
    "\n",
    "def ins_sort(k):\n",
    "    for i in range(1,len(k)):\n",
    "        j = i                    \n",
    "        temp = k[j]              \n",
    "        while j > 0 and temp < k[j-1]: \n",
    "            k[j] = k[j-1] \n",
    "            j=j-1 \n",
    "        k[j] = temp\n",
    "    return k"
   ]
  },
  {
   "cell_type": "markdown",
   "metadata": {},
   "source": [
    "#### Tempo de execução"
   ]
  },
  {
   "cell_type": "code",
   "execution_count": 26,
   "metadata": {},
   "outputs": [
    {
     "name": "stdout",
     "output_type": "stream",
     "text": [
      "1.6 µs ± 56.5 ns per loop (mean ± std. dev. of 10 runs, 1000000 loops each)\n",
      "557 ns ± 3.55 ns per loop (mean ± std. dev. of 10 runs, 1000000 loops each)\n",
      "41.5 µs ± 295 ns per loop (mean ± std. dev. of 10 runs, 10000 loops each)\n",
      "51.3 µs ± 1.44 µs per loop (mean ± std. dev. of 10 runs, 10000 loops each)\n",
      "4.41 µs ± 236 ns per loop (mean ± std. dev. of 10 runs, 100000 loops each)\n"
     ]
    }
   ],
   "source": [
    "content = 'Bem vindo ao desafio técnico do Luiza Labs e muito obrigado por se interessar em fazer parte do Magazine Luiza.'.split()\n",
    "z1 = %timeit -r 10 -o sort1(content)\n",
    "z2 = %timeit -r 10 -o sort2(content)\n",
    "z3 = %timeit -r 10 -o quicksort(content)\n",
    "z4 = %timeit -r 10 -o mergesort(content)\n",
    "z5 = %timeit -r 10 -o ins_sort(content)"
   ]
  },
  {
   "cell_type": "code",
   "execution_count": 27,
   "metadata": {},
   "outputs": [
    {
     "data": {
      "text/plain": [
       "<Container object of 5 artists>"
      ]
     },
     "execution_count": 27,
     "metadata": {},
     "output_type": "execute_result"
    },
    {
     "data": {
      "image/png": "[encoded data removed]",
      "text/plain": [
       "<matplotlib.figure.Figure at 0xb86890>"
      ]
     },
     "metadata": {},
     "output_type": "display_data"
    }
   ],
   "source": [
    "y = [z1.average, z2.average, z3.average, z4.average, z5.average]\n",
    "x = ['sorted', 'sort', 'quicksort', 'mergesort', 'ins_sort']\n",
    "plt.bar(x, y)"
   ]
  },
  {
   "cell_type": "markdown",
   "metadata": {},
   "source": [
    "#### Consumo de mémoria"
   ]
  },
  {
   "cell_type": "code",
   "execution_count": 28,
   "metadata": {},
   "outputs": [
    {
     "name": "stdout",
     "output_type": "stream",
     "text": [
      "peak memory: 71.64 MiB, increment: 0.00 MiB\n",
      "peak memory: 71.64 MiB, increment: 0.00 MiB\n",
      "peak memory: 71.64 MiB, increment: 0.00 MiB\n",
      "peak memory: 71.64 MiB, increment: 0.00 MiB\n",
      "peak memory: 71.64 MiB, increment: 0.00 MiB\n"
     ]
    }
   ],
   "source": [
    "content = 'Bem vindo ao desafio técnico do Luiza Labs e muito obrigado por se interessar em fazer parte do Magazine Luiza.'.split()\n",
    "mz1 = %memit -r 10 -o sort1(content)\n",
    "mz2 = %memit -r 10 -o sort2(content)\n",
    "mz3 = %memit -r 10 -o quicksort(content)\n",
    "mz4 = %memit -r 10 -o mergesort(content)\n",
    "mz5 = %memit -r 10 -o ins_sort(content)"
   ]
  },
  {
   "cell_type": "code",
   "execution_count": 29,
   "metadata": {
    "scrolled": true
   },
   "outputs": [
    {
     "data": {
      "text/plain": [
       "<Container object of 5 artists>"
      ]
     },
     "execution_count": 29,
     "metadata": {},
     "output_type": "execute_result"
    },
    {
     "data": {
      "image/png": "[encoded data removed]",
      "text/plain": [
       "<matplotlib.figure.Figure at 0xba08f0>"
      ]
     },
     "metadata": {},
     "output_type": "display_data"
    }
   ],
   "source": [
    "y = [\n",
    "    max(mz1.mem_usage) - mz1.baseline, \n",
    "    max(mz2.mem_usage) - mz2.baseline, \n",
    "    max(mz3.mem_usage) - mz3.baseline,\n",
    "    max(mz4.mem_usage) - mz4.baseline, \n",
    "    max(mz5.mem_usage) - mz5.baseline,\n",
    "]\n",
    "x = ['sorted', 'sort', 'quicksort', 'mergesort', 'ins_sort']\n",
    "plt.bar(x, y)"
   ]
  },
  {
   "cell_type": "markdown",
   "metadata": {},
   "source": [
    "#### Conclusão\n",
    "\n",
    "Foram testados os método de ordenação nativos `sort`, `sorted` ambos usam o `Timsort` que é o algoritmos de ordenação padrão do python, foram adicionados mais três algoritmos o `quicksort`, `mergesort` e o `insertion sort`. As implementações nativas se mostraram superior, visto que são implementadas em C. Já entre o `sort` e o `sorted`, o primeiro levou vantagem por fazer a ordenação na propria instância da lista sem necessidade da criação de uma copia.\n",
    "\n",
    "vencendor: `sort` "
   ]
  },
  {
   "cell_type": "markdown",
   "metadata": {},
   "source": [
    "## Soluções\n",
    "\n",
    "Comparação entre diferentes abordagens da solução."
   ]
  },
  {
   "cell_type": "code",
   "execution_count": 2,
   "metadata": {
    "scrolled": true
   },
   "outputs": [
    {
     "name": "stdout",
     "output_type": "stream",
     "text": [
      "1.67 s ± 0 ns per loop (mean ± std. dev. of 1 run, 1 loop each)\n",
      "peak memory: 62.03 MiB, increment: 0.16 MiB\n"
     ]
    }
   ],
   "source": [
    "#solução simples\n",
    "\n",
    "from search1 import search1\n",
    "tsolucao1 = %timeit -r 1 -o search1('walt disney', 'data')\n",
    "msolucao1 = %memit -r 1 -o search1('walt disney', 'data')"
   ]
  },
  {
   "cell_type": "code",
   "execution_count": 3,
   "metadata": {},
   "outputs": [
    {
     "name": "stdout",
     "output_type": "stream",
     "text": [
      "1.18 s ± 0 ns per loop (mean ± std. dev. of 1 run, 1 loop each)\n",
      "peak memory: 63.48 MiB, increment: 0.08 MiB\n"
     ]
    }
   ],
   "source": [
    "#solução com threads\n",
    "\n",
    "from search2 import search2\n",
    "tsolucao2 = %timeit -r 1 -o search2('walt disney', 'data')\n",
    "msolucao2 = %memit -r 1 -o search2('walt disney', 'data')"
   ]
  },
  {
   "cell_type": "code",
   "execution_count": 4,
   "metadata": {},
   "outputs": [
    {
     "name": "stdout",
     "output_type": "stream",
     "text": [
      "1.7 s ± 0 ns per loop (mean ± std. dev. of 1 run, 1 loop each)\n",
      "peak memory: 65.99 MiB, increment: 0.77 MiB\n"
     ]
    }
   ],
   "source": [
    "#solução rodando em paralelo (com pool)\n",
    "\n",
    "from search3 import search3\n",
    "tsolucao3 = %timeit -r 1 -o search3('walt disney', 'data')\n",
    "msolucao3 = %memit -r 1 -o search3('walt disney', 'data')"
   ]
  },
  {
   "cell_type": "code",
   "execution_count": 5,
   "metadata": {},
   "outputs": [
    {
     "name": "stdout",
     "output_type": "stream",
     "text": [
      "2.22 s ± 0 ns per loop (mean ± std. dev. of 1 run, 1 loop each)\n",
      "peak memory: 66.11 MiB, increment: 0.70 MiB\n"
     ]
    }
   ],
   "source": [
    "#solução rodando em paralelo (com fila)\n",
    "\n",
    "from search4 import search4\n",
    "tsolucao4 = %timeit -r 1 -o search4('walt disney', 'data')\n",
    "msolucao4 = %memit -r 1 -o search4('walt disney', 'data')"
   ]
  },
  {
   "cell_type": "code",
   "execution_count": 6,
   "metadata": {},
   "outputs": [
    {
     "name": "stdout",
     "output_type": "stream",
     "text": [
      "1.08 s ± 0 ns per loop (mean ± std. dev. of 1 run, 1 loop each)\n",
      "peak memory: 66.32 MiB, increment: 0.51 MiB\n"
     ]
    }
   ],
   "source": [
    "#solução rodando em paralelo (com temp files)\n",
    "\n",
    "from search5 import search5\n",
    "tsolucao5 = %timeit -r 1 -o search5('walt disney', 'data')\n",
    "msolucao5 = %memit -r 1 -o search5('walt disney', 'data')"
   ]
  },
  {
   "cell_type": "code",
   "execution_count": 7,
   "metadata": {},
   "outputs": [
    {
     "name": "stdout",
     "output_type": "stream",
     "text": [
      "2.36 s ± 0 ns per loop (mean ± std. dev. of 1 run, 1 loop each)\n",
      "peak memory: 66.50 MiB, increment: 0.25 MiB\n"
     ]
    }
   ],
   "source": [
    "#solução rodando em paralelo (com manager)\n",
    "\n",
    "from search6 import search6\n",
    "tsolucao6 = %timeit -r 1 -o search6('walt disney', 'data')\n",
    "msolucao6 = %memit -r 1 -o search6('walt disney', 'data')"
   ]
  },
  {
   "cell_type": "code",
   "execution_count": 8,
   "metadata": {},
   "outputs": [
    {
     "name": "stdout",
     "output_type": "stream",
     "text": [
      "1.04 s ± 0 ns per loop (mean ± std. dev. of 1 run, 1 loop each)\n",
      "peak memory: 66.30 MiB, increment: 0.00 MiB\n"
     ]
    }
   ],
   "source": [
    "#solução rodando em paralelo (shared memory)\n",
    "\n",
    "from search7 import search7\n",
    "tsolucao7 = %timeit -r 1 -o search7('walt disney', 'data')\n",
    "msolucao7 = %memit -r 1 -o search7('walt disney', 'data')"
   ]
  },
  {
   "cell_type": "code",
   "execution_count": 9,
   "metadata": {},
   "outputs": [
    {
     "name": "stdout",
     "output_type": "stream",
     "text": [
      "1.31 s ± 0 ns per loop (mean ± std. dev. of 1 run, 1 loop each)\n",
      "peak memory: 66.34 MiB, increment: 0.00 MiB\n"
     ]
    }
   ],
   "source": [
    "#solução rodando em paralelo (consumer)\n",
    "\n",
    "from search8 import search8\n",
    "tsolucao8 = %timeit -r 1 -o search8('walt disney', 'data')\n",
    "msolucao8 = %memit -r 1 -o search8('walt disney', 'data')"
   ]
  },
  {
   "cell_type": "code",
   "execution_count": 11,
   "metadata": {},
   "outputs": [
    {
     "name": "stdout",
     "output_type": "stream",
     "text": [
      "873 ms ± 0 ns per loop (mean ± std. dev. of 1 run, 1 loop each)\n",
      "peak memory: 66.33 MiB, increment: 0.03 MiB\n"
     ]
    }
   ],
   "source": [
    "#solução rodando em paralelo (consumer/shared memory)\n",
    "\n",
    "from search9 import search9\n",
    "tsolucao9 = %timeit -r 1 -o search9('walt disney', 'data')\n",
    "msolucao9 = %memit -r 1 -o search9('walt disney', 'data')"
   ]
  },
  {
   "cell_type": "markdown",
   "metadata": {},
   "source": [
    "#### Tempo de execução"
   ]
  },
  {
   "cell_type": "code",
   "execution_count": 12,
   "metadata": {},
   "outputs": [
    {
     "data": {
      "text/plain": [
       "<Container object of 9 artists>"
      ]
     },
     "execution_count": 12,
     "metadata": {},
     "output_type": "execute_result"
    },
    {
     "data": {
      "image/png": "[encoded data removed]",
      "text/plain": [
       "<matplotlib.figure.Figure at 0x812cc70>"
      ]
     },
     "metadata": {},
     "output_type": "display_data"
    }
   ],
   "source": [
    "y = [\n",
    "    tsolucao1.average,\n",
    "    tsolucao2.average,\n",
    "    tsolucao3.average,\n",
    "    tsolucao4.average,\n",
    "    tsolucao5.average,\n",
    "    tsolucao6.average,    \n",
    "    tsolucao7.average,\n",
    "    tsolucao8.average,\n",
    "    tsolucao9.average,\n",
    "]\n",
    "x = ['simples', 'thread', 'pool', 'queue', 'temp', 'manager', 'shared', 'consumer', 'consumer/shared']\n",
    "plt.bar(x, y)"
   ]
  },
  {
   "cell_type": "markdown",
   "metadata": {},
   "source": [
    "#### Consumo de mémoria"
   ]
  },
  {
   "cell_type": "code",
   "execution_count": 13,
   "metadata": {},
   "outputs": [
    {
     "data": {
      "text/plain": [
       "<Container object of 9 artists>"
      ]
     },
     "execution_count": 13,
     "metadata": {},
     "output_type": "execute_result"
    },
    {
     "data": {
      "image/png": "[encoded data removed]",
      "text/plain": [
       "<matplotlib.figure.Figure at 0xcb4ff0>"
      ]
     },
     "metadata": {},
     "output_type": "display_data"
    }
   ],
   "source": [
    "y = [\n",
    "    max(msolucao1.mem_usage) - msolucao1.baseline,\n",
    "    max(msolucao2.mem_usage) - msolucao2.baseline,\n",
    "    max(msolucao3.mem_usage) - msolucao3.baseline,\n",
    "    max(msolucao4.mem_usage) - msolucao4.baseline,\n",
    "    max(msolucao5.mem_usage) - msolucao5.baseline,\n",
    "    max(msolucao6.mem_usage) - msolucao6.baseline,    \n",
    "    max(msolucao7.mem_usage) - msolucao7.baseline,\n",
    "    max(msolucao8.mem_usage) - msolucao8.baseline,\n",
    "    max(msolucao9.mem_usage) - msolucao9.baseline,\n",
    "]\n",
    "x = ['simples', 'thread', 'pool', 'queue', 'temp', 'manager', 'shared', 'consumer', 'consumer/shared']\n",
    "plt.bar(x, y)"
   ]
  },
  {
   "cell_type": "markdown",
   "metadata": {},
   "source": [
    "#### Conclusão\n",
    "\n",
    "A abordagem que apresentou melhores resultados foi a de rodar em paralelo usando mémoria compartilhada para armazenar os resultados dos processos. Uma abordagem com threads pode ser aplicada se o ambiente só apresentar apenas um processador."
   ]
  }
 ],
 "metadata": {
  "kernelspec": {
   "display_name": "Python 3",
   "language": "python",
   "name": "python3"
  },
  "language_info": {
   "codemirror_mode": {
    "name": "ipython",
    "version": 3
   },
   "file_extension": ".py",
   "mimetype": "text/x-python",
   "name": "python",
   "nbconvert_exporter": "python",
   "pygments_lexer": "ipython3",
   "version": "3.6.3"
  }
 },
 "nbformat": 4,
 "nbformat_minor": 2
}
